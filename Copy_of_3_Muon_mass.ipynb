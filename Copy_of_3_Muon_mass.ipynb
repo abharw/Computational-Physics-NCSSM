{
 "cells": [
  {
   "cell_type": "markdown",
   "metadata": {
    "id": "VxPAdfoTjv0X"
   },
   "source": [
    "# Calculating Invariant Mass \n",
    "\n",
    "This activity uses data from the [CMS detector](https://cms.cern/detector) at CERN in Geneva, Switzerland. We've used this in [Quarknet's Data Camp at Fermilab](https://quarknet.org/page/data-camp-description) for several years to help teachers learn about particle physics.  \n",
    "\n",
    "To get started,\n",
    "- You won't hurt anything by experimenting. If you break it, close the tab and open the activity again to start over.\n",
    "- Is this your first time? Need a refresher? Try the 5-minute [Intro to Coding activity](./intro.ipynb) and come back here. \n",
    "\n",
    "When you're ready, run each code cell until you get down to **Part One**."
   ]
  },
  {
   "cell_type": "code",
   "execution_count": 1,
   "metadata": {
    "id": "NiDzd_bwjv0Z"
   },
   "outputs": [
    {
     "name": "stdout",
     "output_type": "stream",
     "text": [
      "imports successfull\n"
     ]
    }
   ],
   "source": [
    "# imports some software packages we'll use\n",
    "import pandas as pd\n",
    "import numpy as np\n",
    "import matplotlib as mpl\n",
    "import matplotlib.pyplot as plt\n",
    "print(\"imports successfull\")"
   ]
  },
  {
   "cell_type": "code",
   "execution_count": 2,
   "metadata": {
    "colab": {
     "base_uri": "https://localhost:8080/",
     "height": 143
    },
    "id": "WMTlKXuwjv0j",
    "outputId": "e73aa6f6-f9d7-4190-bf99-0627c2a08471"
   },
   "outputs": [
    {
     "data": {
      "text/html": [
       "<div>\n",
       "<style scoped>\n",
       "    .dataframe tbody tr th:only-of-type {\n",
       "        vertical-align: middle;\n",
       "    }\n",
       "\n",
       "    .dataframe tbody tr th {\n",
       "        vertical-align: top;\n",
       "    }\n",
       "\n",
       "    .dataframe thead th {\n",
       "        text-align: right;\n",
       "    }\n",
       "</style>\n",
       "<table border=\"1\" class=\"dataframe\">\n",
       "  <thead>\n",
       "    <tr style=\"text-align: right;\">\n",
       "      <th></th>\n",
       "      <th>Run</th>\n",
       "      <th>Event</th>\n",
       "      <th>E</th>\n",
       "      <th>px</th>\n",
       "      <th>py</th>\n",
       "      <th>pz</th>\n",
       "    </tr>\n",
       "  </thead>\n",
       "  <tbody>\n",
       "    <tr>\n",
       "      <th>0</th>\n",
       "      <td>165617</td>\n",
       "      <td>74601703</td>\n",
       "      <td>9.69873</td>\n",
       "      <td>-9.51043</td>\n",
       "      <td>0.366205</td>\n",
       "      <td>1.86329</td>\n",
       "    </tr>\n",
       "    <tr>\n",
       "      <th>1</th>\n",
       "      <td>165617</td>\n",
       "      <td>75100943</td>\n",
       "      <td>6.20385</td>\n",
       "      <td>-4.26661</td>\n",
       "      <td>0.456545</td>\n",
       "      <td>-4.47930</td>\n",
       "    </tr>\n",
       "    <tr>\n",
       "      <th>2</th>\n",
       "      <td>165617</td>\n",
       "      <td>75587682</td>\n",
       "      <td>19.28920</td>\n",
       "      <td>-4.21208</td>\n",
       "      <td>-0.651623</td>\n",
       "      <td>18.81210</td>\n",
       "    </tr>\n",
       "  </tbody>\n",
       "</table>\n",
       "</div>"
      ],
      "text/plain": [
       "      Run     Event         E       px        py        pz\n",
       "0  165617  74601703   9.69873 -9.51043  0.366205   1.86329\n",
       "1  165617  75100943   6.20385 -4.26661  0.456545  -4.47930\n",
       "2  165617  75587682  19.28920 -4.21208 -0.651623  18.81210"
      ]
     },
     "execution_count": 2,
     "metadata": {},
     "output_type": "execute_result"
    }
   ],
   "source": [
    "# a hashtag tells the program \"don't read the rest of the line\"\n",
    "# That way we can write \"comments\" to humans trying to figure out what the code does\n",
    "\n",
    "data = pd.read_csv('https://github.com/adamlamee/HEP-data/raw/master/muons.csv')\n",
    "# units in these files are energy, E (in GeV) and momentum, p (in GeV/c)\n",
    "\n",
    "# The .head(n) command displays the first n rows of a file.\n",
    "data.head(3)"
   ]
  },
  {
   "cell_type": "code",
   "execution_count": 3,
   "metadata": {
    "colab": {
     "base_uri": "https://localhost:8080/",
     "height": 35
    },
    "id": "Bdlj4S83jv0z",
    "outputId": "6c35d4f1-40ec-4804-a194-644ae76fd115"
   },
   "outputs": [
    {
     "data": {
      "text/plain": [
       "(475465, 6)"
      ]
     },
     "execution_count": 3,
     "metadata": {},
     "output_type": "execute_result"
    }
   ],
   "source": [
    "# .shape displays the (number of rows , number of columns)\n",
    "data.shape"
   ]
  },
  {
   "cell_type": "markdown",
   "metadata": {
    "id": "OezzANGxjv04"
   },
   "source": [
    "## Part One\n",
    "Get acquainted with this data set. It represents muons produced in a proton-proton collision (called an *event*). Look at the cells above to find the answers to the following questions:\n",
    "- In the table above, what do you think each of the column headings represent?\n",
    "- How many events does this data set contain?\n",
    "\n",
    "When you're ready, scroll down to **Part 2**."
   ]
  },
  {
   "cell_type": "code",
   "execution_count": 4,
   "metadata": {
    "colab": {
     "base_uri": "https://localhost:8080/",
     "height": 206
    },
    "id": "baDYUis1jv05",
    "outputId": "0ab8efa2-bab9-4e59-b0d5-def8d37c7a1e"
   },
   "outputs": [
    {
     "data": {
      "text/html": [
       "<div>\n",
       "<style scoped>\n",
       "    .dataframe tbody tr th:only-of-type {\n",
       "        vertical-align: middle;\n",
       "    }\n",
       "\n",
       "    .dataframe tbody tr th {\n",
       "        vertical-align: top;\n",
       "    }\n",
       "\n",
       "    .dataframe thead th {\n",
       "        text-align: right;\n",
       "    }\n",
       "</style>\n",
       "<table border=\"1\" class=\"dataframe\">\n",
       "  <thead>\n",
       "    <tr style=\"text-align: right;\">\n",
       "      <th></th>\n",
       "      <th>Run</th>\n",
       "      <th>Event</th>\n",
       "      <th>E</th>\n",
       "      <th>px</th>\n",
       "      <th>py</th>\n",
       "      <th>pz</th>\n",
       "      <th>p^2</th>\n",
       "    </tr>\n",
       "  </thead>\n",
       "  <tbody>\n",
       "    <tr>\n",
       "      <th>0</th>\n",
       "      <td>165617</td>\n",
       "      <td>74601703</td>\n",
       "      <td>9.69873</td>\n",
       "      <td>-9.510430</td>\n",
       "      <td>0.366205</td>\n",
       "      <td>1.86329</td>\n",
       "      <td>94.054235</td>\n",
       "    </tr>\n",
       "    <tr>\n",
       "      <th>1</th>\n",
       "      <td>165617</td>\n",
       "      <td>75100943</td>\n",
       "      <td>6.20385</td>\n",
       "      <td>-4.266610</td>\n",
       "      <td>0.456545</td>\n",
       "      <td>-4.47930</td>\n",
       "      <td>38.476523</td>\n",
       "    </tr>\n",
       "    <tr>\n",
       "      <th>2</th>\n",
       "      <td>165617</td>\n",
       "      <td>75587682</td>\n",
       "      <td>19.28920</td>\n",
       "      <td>-4.212080</td>\n",
       "      <td>-0.651623</td>\n",
       "      <td>18.81210</td>\n",
       "      <td>372.061337</td>\n",
       "    </tr>\n",
       "    <tr>\n",
       "      <th>3</th>\n",
       "      <td>165617</td>\n",
       "      <td>75660978</td>\n",
       "      <td>7.04268</td>\n",
       "      <td>-6.326780</td>\n",
       "      <td>-0.268545</td>\n",
       "      <td>3.08025</td>\n",
       "      <td>49.588202</td>\n",
       "    </tr>\n",
       "    <tr>\n",
       "      <th>4</th>\n",
       "      <td>165617</td>\n",
       "      <td>75947690</td>\n",
       "      <td>7.27507</td>\n",
       "      <td>0.102966</td>\n",
       "      <td>-5.533080</td>\n",
       "      <td>-4.72122</td>\n",
       "      <td>52.915495</td>\n",
       "    </tr>\n",
       "  </tbody>\n",
       "</table>\n",
       "</div>"
      ],
      "text/plain": [
       "      Run     Event         E        px        py        pz         p^2\n",
       "0  165617  74601703   9.69873 -9.510430  0.366205   1.86329   94.054235\n",
       "1  165617  75100943   6.20385 -4.266610  0.456545  -4.47930   38.476523\n",
       "2  165617  75587682  19.28920 -4.212080 -0.651623  18.81210  372.061337\n",
       "3  165617  75660978   7.04268 -6.326780 -0.268545   3.08025   49.588202\n",
       "4  165617  75947690   7.27507  0.102966 -5.533080  -4.72122   52.915495"
      ]
     },
     "execution_count": 4,
     "metadata": {},
     "output_type": "execute_result"
    }
   ],
   "source": [
    "# You can specify a column by data['column name']\n",
    "# This adds a column and fills it with px^2 for each event\n",
    "data['p^2'] = (data['px']**2) + (data['py']**2) + (data['pz']**2)\n",
    "data.head(5)"
   ]
  },
  {
   "cell_type": "markdown",
   "metadata": {
    "id": "KufRU5EUjv0_"
   },
   "source": [
    "## Part Two\n",
    "Each muon has momentum and since they travel in 3 dimensions the momentum has three componenets. You can calculate the total momentum with the Pythogorean Theorem:  \n",
    "- In 2 dimensions, it's the familiar:  \n",
    "|p|<sup>2</sup> = p<sub>x</sub><sup>2</sup> + p<sub>y</sub><sup>2</sup>  \n",
    "  \n",
    "  \n",
    "- In 3 dimensions, it looks like:  \n",
    "|p|<sup>2</sup> = p<sub>x</sub><sup>2</sup> + p<sub>y</sub><sup>2</sup> + p<sub>z</sub><sup>2</sup>  \n",
    "  \n",
    "  \n",
    "<img src=\"https://upload.wikimedia.org/wikipedia/commons/thumb/6/64/Coord_XYZ.svg/2000px-Coord_XYZ.svg.png\" alt=\"Drawing\" width=\"200\" height=\"200\"/>  \n",
    "\n",
    "Try editing the code in the cell above to calculate the muon's total momentum?\n",
    "\n",
    "When you're ready, scroll down to **Part 3**."
   ]
  },
  {
   "cell_type": "code",
   "execution_count": 6,
   "metadata": {
    "colab": {
     "base_uri": "https://localhost:8080/",
     "height": 242
    },
    "id": "1sgk3CLRjv1A",
    "outputId": "434a6dd5-3ef0-4e54-9326-2dd1789fdd44"
   },
   "outputs": [
    {
     "name": "stderr",
     "output_type": "stream",
     "text": [
      "/opt/conda/lib/python3.10/site-packages/pandas/core/arraylike.py:397: RuntimeWarning: invalid value encountered in sqrt\n",
      "  result = getattr(ufunc, method)(*inputs, **kwargs)\n"
     ]
    },
    {
     "data": {
      "text/html": [
       "<div>\n",
       "<style scoped>\n",
       "    .dataframe tbody tr th:only-of-type {\n",
       "        vertical-align: middle;\n",
       "    }\n",
       "\n",
       "    .dataframe tbody tr th {\n",
       "        vertical-align: top;\n",
       "    }\n",
       "\n",
       "    .dataframe thead th {\n",
       "        text-align: right;\n",
       "    }\n",
       "</style>\n",
       "<table border=\"1\" class=\"dataframe\">\n",
       "  <thead>\n",
       "    <tr style=\"text-align: right;\">\n",
       "      <th></th>\n",
       "      <th>Run</th>\n",
       "      <th>Event</th>\n",
       "      <th>E</th>\n",
       "      <th>px</th>\n",
       "      <th>py</th>\n",
       "      <th>pz</th>\n",
       "      <th>p^2</th>\n",
       "      <th>mass</th>\n",
       "    </tr>\n",
       "  </thead>\n",
       "  <tbody>\n",
       "    <tr>\n",
       "      <th>0</th>\n",
       "      <td>165617</td>\n",
       "      <td>74601703</td>\n",
       "      <td>9.69873</td>\n",
       "      <td>-9.510430</td>\n",
       "      <td>0.366205</td>\n",
       "      <td>1.86329</td>\n",
       "      <td>94.054235</td>\n",
       "      <td>0.105495</td>\n",
       "    </tr>\n",
       "    <tr>\n",
       "      <th>1</th>\n",
       "      <td>165617</td>\n",
       "      <td>75100943</td>\n",
       "      <td>6.20385</td>\n",
       "      <td>-4.266610</td>\n",
       "      <td>0.456545</td>\n",
       "      <td>-4.47930</td>\n",
       "      <td>38.476523</td>\n",
       "      <td>0.105982</td>\n",
       "    </tr>\n",
       "    <tr>\n",
       "      <th>2</th>\n",
       "      <td>165617</td>\n",
       "      <td>75587682</td>\n",
       "      <td>19.28920</td>\n",
       "      <td>-4.212080</td>\n",
       "      <td>-0.651623</td>\n",
       "      <td>18.81210</td>\n",
       "      <td>372.061337</td>\n",
       "      <td>0.109086</td>\n",
       "    </tr>\n",
       "    <tr>\n",
       "      <th>3</th>\n",
       "      <td>165617</td>\n",
       "      <td>75660978</td>\n",
       "      <td>7.04268</td>\n",
       "      <td>-6.326780</td>\n",
       "      <td>-0.268545</td>\n",
       "      <td>3.08025</td>\n",
       "      <td>49.588202</td>\n",
       "      <td>0.105546</td>\n",
       "    </tr>\n",
       "    <tr>\n",
       "      <th>4</th>\n",
       "      <td>165617</td>\n",
       "      <td>75947690</td>\n",
       "      <td>7.27507</td>\n",
       "      <td>0.102966</td>\n",
       "      <td>-5.533080</td>\n",
       "      <td>-4.72122</td>\n",
       "      <td>52.915495</td>\n",
       "      <td>0.105589</td>\n",
       "    </tr>\n",
       "  </tbody>\n",
       "</table>\n",
       "</div>"
      ],
      "text/plain": [
       "      Run     Event         E        px        py        pz         p^2  \\\n",
       "0  165617  74601703   9.69873 -9.510430  0.366205   1.86329   94.054235   \n",
       "1  165617  75100943   6.20385 -4.266610  0.456545  -4.47930   38.476523   \n",
       "2  165617  75587682  19.28920 -4.212080 -0.651623  18.81210  372.061337   \n",
       "3  165617  75660978   7.04268 -6.326780 -0.268545   3.08025   49.588202   \n",
       "4  165617  75947690   7.27507  0.102966 -5.533080  -4.72122   52.915495   \n",
       "\n",
       "       mass  \n",
       "0  0.105495  \n",
       "1  0.105982  \n",
       "2  0.109086  \n",
       "3  0.105546  \n",
       "4  0.105589  "
      ]
     },
     "execution_count": 6,
     "metadata": {},
     "output_type": "execute_result"
    }
   ],
   "source": [
    "data['mass'] = np.sqrt((data['E']**2 - data['p^2'])) #This makes a new column called \"m1\" and fills it with E1 + p1 for each event\n",
    "data = data.fillna(0) # fills in a zero for any imaginary values your caluclation might produce\n",
    "data.head(5)"
   ]
  },
  {
   "cell_type": "markdown",
   "metadata": {
    "id": "4MXlLaWNjv1F"
   },
   "source": [
    "## Part Three\n",
    "Here's where special relativity comes in. A particle's **energy** is due to it's **mass** and **momentum**. This equation is also similar to the Pythagoream theorem:  \n",
    "\n",
    "<center>energy<sup>2</sup> = mass<sup>2</sup> + momentum<sup>2</sup></center>  \n",
    "\n",
    "*Mass* in this equation is called the particle's *invariant mass* because it is a value all observers would agree on, regardless of their reference frame. The code above creates a column for the mass of the muon, but the equation isn't quite right.  \n",
    "- Edit the code in the cell above to *really* calculate the muon's mass.  \n",
    "- How could your equation produce some imaginary numbers?  \n",
    "\n",
    "When you're ready, scroll down to **Part 4**."
   ]
  },
  {
   "cell_type": "code",
   "execution_count": 7,
   "metadata": {
    "colab": {
     "base_uri": "https://localhost:8080/",
     "height": 303
    },
    "id": "-scsKIdKjv1G",
    "outputId": "01508868-3c3e-4762-84be-9f30315765f1"
   },
   "outputs": [
    {
     "data": {
      "image/png": "[encoded data removed]",
      "text/plain": [
       "<Figure size 432x288 with 1 Axes>"
      ]
     },
     "metadata": {
      "needs_background": "light"
     },
     "output_type": "display_data"
    }
   ],
   "source": [
    "plt.hist(data['mass'], bins=100, range=[0.08,0.13], log=False)  # makes the histogram\n",
    "plt.title(\"Invarient Mass\")\n",
    "plt.xlabel(\"Mass (in GeV/c^2)\")\n",
    "plt.ylabel(\"number of events\")\n",
    "plt.grid(False);\n",
    "plt.xkcd()\n",
    "plt.rcdefaults()"
   ]
  },
  {
   "cell_type": "markdown",
   "metadata": {
    "id": "zlF-KDk0jv1K"
   },
   "source": [
    "## Part Four\n",
    "The code above may take a few moments to run since it's grabbing a pretty big data set (>400,000 events!?). When it's finished, you'll see a histogram of the invariant mass values you calucalted for muon 1 in each event. This is called a *mass plot*.  \n",
    "- You'll probably need to adjust the histogram's range and number of bins to see a clear peak. The x-value of that peak occurs at the invariant mass of the particle (in this case, a muon).\n",
    "- Based on your histogram, what value does the muon's invariant mass seem to be?\n",
    "- Try replacing the histogram's title and x-axis label to something better.  \n",
    "\n",
    "## Part Five  \n",
    "Now that you've analyzed your own huge set of particle collision events, here are some follow-up questions:\n",
    "- How does the value you calculated compare to the accepted mass of the [muon](https://en.wikipedia.org/wiki/Muon)? Is it very different, if so why might that be?\n",
    "- Why doesn't energy have x, y, and z components like momentum?\n",
    "- How does E<sup>2</sup> - p<sup>2</sup> give you a unit of mass?\n",
    "\n",
    "## More Tools  \n",
    "The cells below show some more advanced tehniques.  "
   ]
  },
  {
   "cell_type": "code",
   "execution_count": 8,
   "metadata": {
    "id": "3Zq2yLC0jv1L"
   },
   "outputs": [],
   "source": [
    "# run this command to make your plots look like they're from xkcd.com\n",
    "plt.xkcd();\n",
    "# then re-execute your code to make a plot and see it xkcd-ified."
   ]
  },
  {
   "cell_type": "code",
   "execution_count": 9,
   "metadata": {
    "id": "SIbaFNC1jv1Q"
   },
   "outputs": [],
   "source": [
    "# run this cell to make normal-looking plots again\n",
    "mpl.rcdefaults()"
   ]
  },
  {
   "cell_type": "markdown",
   "metadata": {
    "id": "Mj5aIoG4jv1U"
   },
   "source": [
    "A professional physicist would usually fit a theoretical curve to the mass plot to identify the particle's invariant mass. This is called a [relativistic Breit-Wigner](https://en.wikipedia.org/wiki/Relativistic_Breit%E2%80%93Wigner_distribution) curve.  \n",
    "- First, choose some parameters for the curve based on where the peak is on your histogram and how wide it looks.  \n",
    "- Then, run the code and keep adjusting the parameters until the curve tightly fits the peak."
   ]
  },
  {
   "cell_type": "code",
   "execution_count": 24,
   "metadata": {
    "colab": {
     "base_uri": "https://localhost:8080/",
     "height": 410
    },
    "id": "LOaKSIAWjv1U",
    "outputId": "1e4e7961-2f15-4426-e9c2-47e6fd53545a"
   },
   "outputs": [
    {
     "data": {
      "image/png": "[encoded data removed]",
      "text/plain": [
       "<Figure size 600x400 with 1 Axes>"
      ]
     },
     "metadata": {},
     "output_type": "display_data"
    }
   ],
   "source": [
    "# set the Breit-Wigner parameters\n",
    "xmin = 0.08  # lower bound for your plot\n",
    "xmax = 0.13  # upper bound for your plot\n",
    "particle_mass = .1055 # the x-value of the peak\n",
    "width = .0034 # width of the peak halfway up; a.k.a. \"full width at half max\" or FWHM\n",
    "K = 0.013  # a constant that affects the height of the curve, you'll need to tinker with this some\n",
    "\n",
    "# calculate the Breit-Wigner curve\n",
    "x = np.arange(xmin, xmax, (xmax-xmin)/200) # makes a series of equally spaced x-values\n",
    "y = K / ((x**2 - particle_mass**2)**2 + (particle_mass*width)**2) # calculates the y-values for the B-W curve\n",
    "\n",
    "# make the plot\n",
    "fig, ax = plt.subplots(1,1, figsize=(6,4))\n",
    "#data['mass'], bins=100, range=[0.08,0.13], log=False\n",
    "ax.hist(data['mass'], bins=100, range=[xmin,xmax], log=False)  # plots the histogram\n",
    "ax.plot(x, y, color='r')  # plots the curve\n",
    "plt.title(\"Invariant Mass\")\n",
    "plt.xlabel(\"Mass (in GeV/c^2)\")\n",
    "plt.ylabel(\"number of events\")\n",
    "plt.grid(True);"
   ]
  },
  {
   "cell_type": "markdown",
   "metadata": {
    "id": "DcA5-9bPjv1a"
   },
   "source": [
    "If you finally have a curve that pretty closely fits the peak in your histogram, take a look at the parameters you set. The invariant mass of the particle is your *particle_mass*. The particle's mean lifetime is h-bar/width.  \n",
    "- How do the values below compare with the accepted values for mass and lifetime of your particle?  \n",
    "- Which one is a better measure? Why do you think that?"
   ]
  },
  {
   "cell_type": "code",
   "execution_count": null,
   "metadata": {
    "colab": {
     "base_uri": "https://localhost:8080/",
     "height": 53
    },
    "id": "nfxSGutbjv1a",
    "outputId": "196143e9-7a96-4fda-9cf6-72e0b417ab24"
   },
   "outputs": [
    {
     "name": "stdout",
     "output_type": "stream",
     "text": [
      "mass =  105.5  MeV/c^2\n",
      "mean lifetime =  1.32e-07  seconds\n"
     ]
    }
   ],
   "source": [
    "print(\"mass = \", np.round(particle_mass*1000,6), \" MeV/c^2\")\n",
    "hbar = 6.6e-10      # in MeV*s\n",
    "print(\"mean lifetime = \", np.format_float_scientific(hbar/width,6), \" seconds\")"
   ]
  },
  {
   "cell_type": "markdown",
   "metadata": {},
   "source": [
    "### The mass is very close to the true value of 105.658, but the mean lifetime seems to be off compared to the true value of -2.1969811e-6 "
   ]
  },
  {
   "cell_type": "markdown",
   "metadata": {},
   "source": [
    "### The curve is a better measure since it incorpora"
   ]
  },
  {
   "cell_type": "markdown",
   "metadata": {
    "id": "IckJMDaijv1f"
   },
   "source": [
    "---  \n",
    "## Saving Your Work  \n",
    "This is running on a Google server on a distant planet and deletes what you've done when you close this tab. To save your work for later use or analysis you have a few options:  \n",
    "- File > \"Save a copy in Drive\" will save it to you Google Drive in a folder called \"Collaboratory\". You can run it later from there.  \n",
    "- File > \"Download .ipynb\" to save to your computer (and run with Jupyter software later)  \n",
    "- File > Print to ... um ... print.  \n",
    "- To save an image of a graph or chart, right-click on it and select Save Image as ...  \n",
    "\n",
    "## Credits\n",
    "This notebook was designed by [Quarknet](https://quarknet.org/) Teaching and Learning Fellow [Adam LaMee](https://adamlamee.github.io/) and UCF Physics undergrad Brooke Emison. The handy csv files were created from the CMS Run2011A primary datasets and converted from ROOT format by the masterful [Tom McCauley](https://github.com/tpmccauley). More can be found on the [CERN OpenData](http://opendata.cern.ch/?ln=en) site, like [here](http://opendata.cern.ch/record/545). The 3D vector image can be found on [WikiMedia Commons](https://commons.wikimedia.org/wiki/File:Coord_XYZ.svg). Finally, thanks to the great folks at [Binder](https://mybinder.org/) and [Google Colaboratory](https://colab.research.google.com/notebooks/intro.ipynb) for making this notebook interactive without you needing to download it or install [Jupyter](https://jupyter.org/) on your own device. Find more activities and license info at [CODINGinK12.org](http://www.codingink12.org)."
   ]
  }
 ],
 "metadata": {
  "anaconda-cloud": {},
  "colab": {
   "provenance": []
  },
  "kernelspec": {
   "display_name": "Python 3 (ipykernel)",
   "language": "python",
   "name": "python3"
  },
  "language_info": {
   "codemirror_mode": {
    "name": "ipython",
    "version": 3
   },
   "file_extension": ".py",
   "mimetype": "text/x-python",
   "name": "python",
   "nbconvert_exporter": "python",
   "pygments_lexer": "ipython3",
   "version": "3.10.5"
  }
 },
 "nbformat": 4,
 "nbformat_minor": 4
}
