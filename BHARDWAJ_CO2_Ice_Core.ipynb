{
 "cells": [
  {
   "cell_type": "markdown",
   "metadata": {
    "id": "_8j9RAVQWSJs"
   },
   "source": [
    "The Vostok Ice Core tells us a great deal about CO2 concentration in the atmosphere over many thousands of years."
   ]
  },
  {
   "cell_type": "markdown",
   "metadata": {
    "id": "sYAPS1ReJvCt"
   },
   "source": [
    "# Atmospheric CO<sup>2</sup> Levels <BR>\n",
    "The first portion of the problem set is developed around data from the Russian Vostok Station in East Antarctica. Samples of atmospheric gasses were taken from increasing depths within the ice, and the mean age of the samples were taken as well as CO2 concentration. The seconds data set came from the Mauna Loa Observatory in Hawai'i. These data are more current than those from the Vostok Ice Core. The data are recorded below.\n",
    "\n",
    "Your assignment is to develop scatter graphs that relate age of ice as a function of depth, and CO<sup>2</sup> concentration as a function of the mean age of the air. The data represents time as yr BP, or years before the present time. Make your graph represent those years extend from 450000 years ago until the present time. Develop some type of analytical statement concerning these sample sets.\n",
    "\n",
    "Added credit – make these line graphs as well as scatter graphs.\n",
    "\n",
    "Here is some information about this data as well as ice core sampling: http://cdiac.ornl.gov/trends/co2/vostok.html and https://en.wikipedia.org/wiki/Ice_core#Vostok"
   ]
  },
  {
   "cell_type": "code",
   "execution_count": 2,
   "metadata": {},
   "outputs": [],
   "source": [
    "# Arav Bhardwaj\n",
    "# Comp Phys\n",
    "# Mr. Payne\n",
    "# 2023-03-12"
   ]
  },
  {
   "cell_type": "code",
   "execution_count": 3,
   "metadata": {
    "colab": {
     "base_uri": "https://localhost:8080/",
     "height": 206
    },
    "id": "6O3nICGKTIwA",
    "outputId": "214891f1-051e-4234-ba1e-4c6283b4aabe"
   },
   "outputs": [
    {
     "data": {
      "text/html": [
       "<div>\n",
       "<style scoped>\n",
       "    .dataframe tbody tr th:only-of-type {\n",
       "        vertical-align: middle;\n",
       "    }\n",
       "\n",
       "    .dataframe tbody tr th {\n",
       "        vertical-align: top;\n",
       "    }\n",
       "\n",
       "    .dataframe thead th {\n",
       "        text-align: right;\n",
       "    }\n",
       "</style>\n",
       "<table border=\"1\" class=\"dataframe\">\n",
       "  <thead>\n",
       "    <tr style=\"text-align: right;\">\n",
       "      <th></th>\n",
       "      <th>Mean</th>\n",
       "      <th>Age</th>\n",
       "      <th>Depth</th>\n",
       "      <th>CO2ppm</th>\n",
       "    </tr>\n",
       "  </thead>\n",
       "  <tbody>\n",
       "    <tr>\n",
       "      <th>0</th>\n",
       "      <td>149.1</td>\n",
       "      <td>5679</td>\n",
       "      <td>2342</td>\n",
       "      <td>284.7</td>\n",
       "    </tr>\n",
       "    <tr>\n",
       "      <th>1</th>\n",
       "      <td>173.1</td>\n",
       "      <td>6828</td>\n",
       "      <td>3634</td>\n",
       "      <td>272.8</td>\n",
       "    </tr>\n",
       "    <tr>\n",
       "      <th>2</th>\n",
       "      <td>177.4</td>\n",
       "      <td>7043</td>\n",
       "      <td>3833</td>\n",
       "      <td>268.1</td>\n",
       "    </tr>\n",
       "    <tr>\n",
       "      <th>3</th>\n",
       "      <td>228.6</td>\n",
       "      <td>9523</td>\n",
       "      <td>6220</td>\n",
       "      <td>262.2</td>\n",
       "    </tr>\n",
       "    <tr>\n",
       "      <th>4</th>\n",
       "      <td>250.3</td>\n",
       "      <td>10579</td>\n",
       "      <td>7327</td>\n",
       "      <td>254.6</td>\n",
       "    </tr>\n",
       "  </tbody>\n",
       "</table>\n",
       "</div>"
      ],
      "text/plain": [
       "                   Mean    Age  Depth  CO2ppm\n",
       "0                 149.1   5679   2342   284.7\n",
       "1                 173.1   6828   3634   272.8\n",
       "2                 177.4   7043   3833   268.1\n",
       "3                 228.6   9523   6220   262.2\n",
       "4                 250.3  10579   7327   254.6"
      ]
     },
     "execution_count": 3,
     "metadata": {},
     "output_type": "execute_result"
    }
   ],
   "source": [
    "# Imports\n",
    "import numpy as np\n",
    "import matplotlib.pyplot as plt\n",
    "import pandas as pd\n",
    "import matplotlib as mpl\n",
    "\n",
    "#Source of data\n",
    "data = pd.read_csv(\"https://raw.githubusercontent.com/dannydaniel7/4-leptons/master/Vostok.csv\")\n",
    "\n",
    "data.head(5)\n"
   ]
  },
  {
   "cell_type": "code",
   "execution_count": 4,
   "metadata": {
    "colab": {
     "base_uri": "https://localhost:8080/"
    },
    "id": "uLQhFsBgaGr0",
    "outputId": "445e582c-d2ed-4e94-ebf8-7695cc5b70d2"
   },
   "outputs": [
    {
     "data": {
      "text/plain": [
       "(363, 4)"
      ]
     },
     "execution_count": 4,
     "metadata": {},
     "output_type": "execute_result"
    }
   ],
   "source": [
    "data.shape"
   ]
  },
  {
   "cell_type": "code",
   "execution_count": 5,
   "metadata": {
    "colab": {
     "base_uri": "https://localhost:8080/",
     "height": 295
    },
    "id": "D363h8rxbd0w",
    "outputId": "14029612-9df8-439e-e61c-2970d167de54"
   },
   "outputs": [
    {
     "data": {
      "image/png": "[encoded data removed]",
      "text/plain": [
       "<Figure size 432x288 with 1 Axes>"
      ]
     },
     "metadata": {
      "needs_background": "light"
     },
     "output_type": "display_data"
    }
   ],
   "source": [
    "plt.plot(data['Age'],data['CO2ppm'],linestyle='-', marker='o', color='b', markersize=2)\n",
    "plt.xlabel('Age (Before Present')\n",
    "plt.ylabel('CO2 ppm')\n",
    "plt.title('Vostok Ice Core Reading')\n",
    "plt.grid(True)\n",
    "plt.show()"
   ]
  },
  {
   "cell_type": "markdown",
   "metadata": {
    "id": "OlQM6S_-fPiQ"
   },
   "source": [
    "There is a set of data for the past decades from the Mauna Loa Observatory. Produce a graph of the CO2 levels as shown by the data, and reflect upon the results."
   ]
  },
  {
   "cell_type": "code",
   "execution_count": 6,
   "metadata": {
    "id": "w16HwMWRf0vA"
   },
   "outputs": [
    {
     "data": {
      "text/plain": [
       "Text(0, 0.5, 'CO2ppm levels')"
      ]
     },
     "execution_count": 6,
     "metadata": {},
     "output_type": "execute_result"
    },
    {
     "data": {
      "image/png": "[encoded data removed]",
      "text/plain": [
       "<Figure size 432x288 with 1 Axes>"
      ]
     },
     "metadata": {
      "needs_background": "light"
     },
     "output_type": "display_data"
    }
   ],
   "source": [
    "# Write code to examine these data...https://raw.githubusercontent.com/dannydaniel7/4-leptons/master/Mauna%20Loa.csv\n",
    "# Explain both graphs and compare them. \n",
    "df = pd.read_csv(\"https://raw.githubusercontent.com/dannydaniel7/4-leptons/master/Mauna%20Loa.csv\")\n",
    "plt.plot(df[\"year\"],df[\"mean\"])\n",
    "plt.xlabel(\"Year\")\n",
    "plt.ylabel(\"CO2ppm levels\")"
   ]
  },
  {
   "cell_type": "markdown",
   "metadata": {},
   "source": [
    "According to the graph, the mean CO2 levels in ppm have increased steadily each year since 1960."
   ]
  }
 ],
 "metadata": {
  "colab": {
   "collapsed_sections": [],
   "name": "Student CO2_Ice_Core.ipynb",
   "provenance": []
  },
  "kernelspec": {
   "display_name": "Python 3 (ipykernel)",
   "language": "python",
   "name": "python3"
  },
  "language_info": {
   "codemirror_mode": {
    "name": "ipython",
    "version": 3
   },
   "file_extension": ".py",
   "mimetype": "text/x-python",
   "name": "python",
   "nbconvert_exporter": "python",
   "pygments_lexer": "ipython3",
   "version": "3.10.5"
  }
 },
 "nbformat": 4,
 "nbformat_minor": 4
}
