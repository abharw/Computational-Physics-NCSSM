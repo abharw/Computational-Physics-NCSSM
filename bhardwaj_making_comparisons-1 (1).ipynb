{
 "cells": [
  {
   "cell_type": "markdown",
   "metadata": {
    "id": "q_8vwPXp2Tw2"
   },
   "source": [
    "If you're running this in Google Colab, you can click \"Copy to Drive\" (above &#8593;) or go to **File > Save a Copy in Drive** so you'll have your own version to work on. That requires a Google login. When submitting, please change \"STUDENT\" in the title to your last name.  \n",
    "<hr/>\n",
    "\n",
    "# Analyzing Measurement Uncertainty   \n",
    "We'll use Dr. Natasha Holmes's *Statistics Summary* (linked in the course website) as a guide for how to analyze data in this course. This notebook shows how to do use python to do the calculations in section II *Statistics for Repeated Measurements with Statistical Variation* and section III *Making Comparisons*.\n",
    "\n",
    "If you need to start over from scratch, open a [clean copy of this activity](https://colab.research.google.com/github/adamlamee/UCF_labs/blob/master/making_comparisons.ipynb). If you need a refresher on how to execute this notebook, try the [intro activity](https://colab.research.google.com/github/adamlamee/UCF_labs/blob/master/intro.ipynb).    \n",
    "\n",
    "## II. Statistics for Repeated Measurements with Statistical Variation"
   ]
  },
  {
   "cell_type": "code",
   "execution_count": 7,
   "metadata": {},
   "outputs": [],
   "source": [
    "# Arav Bhardwaj\n",
    "# Comp Phys\n",
    "# Mr. Payne\n",
    "# 2023-03-13"
   ]
  },
  {
   "cell_type": "code",
   "execution_count": 1,
   "metadata": {
    "id": "mFrOC3KL2TxB"
   },
   "outputs": [],
   "source": [
    "import numpy as np                   # numpy does math\n",
    "import matplotlib.pyplot as plt      # pyplot makes plots"
   ]
  },
  {
   "cell_type": "code",
   "execution_count": 2,
   "metadata": {
    "colab": {
     "base_uri": "https://localhost:8080/",
     "height": 265
    },
    "id": "8hsVCV7F2TxE",
    "outputId": "566985ef-1c91-4697-f807-6c04f59429f9"
   },
   "outputs": [
    {
     "data": {
      "image/png": "[encoded data removed]",
      "text/plain": [
       "<Figure size 432x288 with 1 Axes>"
      ]
     },
     "metadata": {
      "needs_background": "light"
     },
     "output_type": "display_data"
    }
   ],
   "source": [
    "# you can change the measurements and histogram properties\n",
    "# keep the same format (e.g., brackets and commas) to avoid errors\n",
    "\n",
    "sample_a = [1.2, 1.3, 1.1, 0.9, 1.4]               # some measurements from sample A\n",
    "sample_b = [1.3, 1.1, 1.4, 1.5, 1.2]               # some measurements from trial B to compare\n",
    "plt.hist((sample_a, sample_b), bins=5, range=[0.8,1.8], color=('pink','purple'));   # makes a histogram"
   ]
  },
  {
   "cell_type": "code",
   "execution_count": 3,
   "metadata": {
    "colab": {
     "base_uri": "https://localhost:8080/"
    },
    "id": "rA34zLjX2TxF",
    "outputId": "004ed16a-8366-446a-f199-0e3f9a112d77"
   },
   "outputs": [
    {
     "data": {
      "text/plain": [
       "1.1800000000000002"
      ]
     },
     "execution_count": 3,
     "metadata": {},
     "output_type": "execute_result"
    }
   ],
   "source": [
    "a_mean = np.mean(sample_a)   # calculates the mean of sample a, saves it as a variable names \"a_mean\"\n",
    "a_mean                       # displays the mean value you just calculated"
   ]
  },
  {
   "cell_type": "code",
   "execution_count": 5,
   "metadata": {
    "colab": {
     "base_uri": "https://localhost:8080/"
    },
    "id": "I7_G5dB52TxG",
    "outputId": "81e586ce-d496-4ccc-c737-6b435471f307"
   },
   "outputs": [
    {
     "data": {
      "text/plain": [
       "1.3000000000000003"
      ]
     },
     "execution_count": 5,
     "metadata": {},
     "output_type": "execute_result"
    }
   ],
   "source": [
    "# try adding code here to find the mean of sample b\n",
    "# copy and paste are a programmers best friends, but rename your variables\n",
    "b_mean = np.mean(sample_b)\n",
    "b_mean"
   ]
  },
  {
   "cell_type": "code",
   "execution_count": 13,
   "metadata": {
    "colab": {
     "base_uri": "https://localhost:8080/"
    },
    "id": "-6ZNSKAk2TxH",
    "outputId": "687b5450-f47c-4404-999c-ed09386902f2"
   },
   "outputs": [
    {
     "data": {
      "text/plain": [
       "0.1923538406167134"
      ]
     },
     "execution_count": 13,
     "metadata": {},
     "output_type": "execute_result"
    }
   ],
   "source": [
    "a_stdev = np.std(sample_a, ddof=1)      # finds the standard deviation\n",
    "a_stdev"
   ]
  },
  {
   "cell_type": "code",
   "execution_count": 8,
   "metadata": {
    "colab": {
     "base_uri": "https://localhost:8080/"
    },
    "id": "NZw1iVsa2TxI",
    "outputId": "ad3ba866-f52e-42e5-d2f1-4fb1444f9d85"
   },
   "outputs": [
    {
     "data": {
      "text/plain": [
       "0.15811388300841894"
      ]
     },
     "execution_count": 8,
     "metadata": {},
     "output_type": "execute_result"
    }
   ],
   "source": [
    "# try that again for sample b's standard deviation\n",
    "b_stdev = np.std(sample_b, ddof=1)      # finds the standard deviation\n",
    "b_stdev"
   ]
  },
  {
   "cell_type": "code",
   "execution_count": 15,
   "metadata": {
    "colab": {
     "base_uri": "https://localhost:8080/"
    },
    "id": "HLYh-hyz2TxI",
    "outputId": "b6264ec2-da15-403b-aa65-cd6a6ed4b354"
   },
   "outputs": [
    {
     "data": {
      "text/plain": [
       "5"
      ]
     },
     "execution_count": 15,
     "metadata": {},
     "output_type": "execute_result"
    }
   ],
   "source": [
    "a_count = len(sample_a)      # \"a_count\" is now a variable with the number of observations in sample a\n",
    "a_count"
   ]
  },
  {
   "cell_type": "code",
   "execution_count": 9,
   "metadata": {
    "colab": {
     "base_uri": "https://localhost:8080/"
    },
    "id": "Ln3_K1ky2TxJ",
    "outputId": "664d1982-6f47-4e61-b424-f7fc9689ac88"
   },
   "outputs": [
    {
     "data": {
      "text/plain": [
       "5"
      ]
     },
     "execution_count": 9,
     "metadata": {},
     "output_type": "execute_result"
    }
   ],
   "source": [
    "# now count the observations in sample b\n",
    "b_count = len(sample_b)      \n",
    "b_count"
   ]
  },
  {
   "cell_type": "code",
   "execution_count": 16,
   "metadata": {
    "colab": {
     "base_uri": "https://localhost:8080/"
    },
    "id": "5bHfqlT-2TxK",
    "outputId": "04ab51d8-eb78-41f3-e93b-d855f4fa7259"
   },
   "outputs": [
    {
     "data": {
      "text/plain": [
       "0.08602325267042624"
      ]
     },
     "execution_count": 16,
     "metadata": {},
     "output_type": "execute_result"
    }
   ],
   "source": [
    "# finding standard uncertainty\n",
    "a_stunc = a_stdev / np.sqrt(a_count)       # python can do algebra\n",
    "a_stunc"
   ]
  },
  {
   "cell_type": "code",
   "execution_count": 17,
   "metadata": {
    "colab": {
     "base_uri": "https://localhost:8080/"
    },
    "id": "t-JoQxMV2TxL",
    "outputId": "68501256-fefa-4ba5-b50c-e7928fb83324"
   },
   "outputs": [
    {
     "data": {
      "text/plain": [
       "0.07071067811865474"
      ]
     },
     "execution_count": 17,
     "metadata": {},
     "output_type": "execute_result"
    }
   ],
   "source": [
    "# how about sample b's standard uncertainty?\n",
    "b_stunc = b_stdev / np.sqrt(b_count)\n",
    "b_stunc"
   ]
  },
  {
   "cell_type": "markdown",
   "metadata": {
    "id": "j-fBzlDe2TxL"
   },
   "source": [
    "## III. Comparing Means"
   ]
  },
  {
   "cell_type": "code",
   "execution_count": 18,
   "metadata": {
    "colab": {
     "base_uri": "https://localhost:8080/"
    },
    "id": "wKbofLlM2TxM",
    "outputId": "a9255a66-35af-415d-e9c8-9c821846f7d5"
   },
   "outputs": [
    {
     "data": {
      "text/plain": [
       "1.0776318121606507"
      ]
     },
     "execution_count": 18,
     "metadata": {},
     "output_type": "execute_result"
    }
   ],
   "source": [
    "# t' statistic\n",
    "# for the code below to work, you'll need to have done the calculations for sample b above, too\n",
    "t_prime = abs((a_mean - b_mean) / np.sqrt(a_stunc**2 + b_stunc**2))\n",
    "t_prime"
   ]
  },
  {
   "cell_type": "markdown",
   "metadata": {
    "id": "GaJdMScI2TxO"
   },
   "source": [
    "Nicely done. If you found a t' of about 1.1, congrats! If not, check your math or start over with a [clean copy of this activity](https://colab.research.google.com/github/adamlamee/UCF_labs/blob/master/making_comparisons.ipynb).  \n",
    "\n",
    "\n",
    "# IV. Plotting the Results  \n",
    "Two options for plotting your data are given below.\n",
    "\n",
    "A **scatterplot** is pretty standard when your independent variable has levels that are numeric, like distances or lengths. Want to customize this type of plot even more? See matplotlib's [scatter](https://matplotlib.org/stable/api/_as_gen/matplotlib.pyplot.scatter.html) and [errorbar](https://matplotlib.org/stable/api/_as_gen/matplotlib.pyplot.errorbar.html) pages.\n",
    "\n",
    "A **barplot** is more appropriate when your independent variable has levels that aren't numeric, like \"facing left\" and \"facing right\". Want to customize this type of plot even more? See matplotlib's [barplot](https://matplotlib.org/stable/api/_as_gen/matplotlib.pyplot.bar.html) page."
   ]
  },
  {
   "cell_type": "code",
   "execution_count": 24,
   "metadata": {
    "colab": {
     "base_uri": "https://localhost:8080/",
     "height": 295
    },
    "id": "imFYVoo82TxO",
    "outputId": "7fbea5a0-5e58-4d90-cb4b-374bae017c04"
   },
   "outputs": [
    {
     "data": {
      "image/png": "[encoded data removed]",
      "text/plain": [
       "<Figure size 432x288 with 1 Axes>"
      ]
     },
     "metadata": {
      "needs_background": "light"
     },
     "output_type": "display_data"
    }
   ],
   "source": [
    "# here's a scatterplot for numeric IV levels\n",
    "\n",
    "# set up the values that get plotted\n",
    "x_values = [3.5,10]\n",
    "y_values = [a_mean, b_mean]\n",
    "errorbars = [2*a_stunc, 2*b_stunc]  # this is totally wrong; edit this to be twice the std unc for a and b\n",
    "\n",
    "# this part makes the plot\n",
    "fig, ax = plt.subplots()\n",
    "ax.scatter(x_values, y_values)\n",
    "ax.errorbar(x_values, y_values, yerr=errorbars, ecolor='black', capsize=10, fmt='o')\n",
    "\n",
    "# edit these so your plot looks nice\n",
    "ax.set_xlabel('X')\n",
    "ax.set_ylabel('IV levels')\n",
    "ax.set_title('IV levels vs. X')\n",
    "ax.set_xlim(0,15)\n",
    "ax.set_ylim(0,5)\n",
    "ax.grid(False)\n",
    "plt.show()"
   ]
  },
  {
   "cell_type": "code",
   "execution_count": 25,
   "metadata": {
    "colab": {
     "base_uri": "https://localhost:8080/",
     "height": 295
    },
    "id": "r4v4r0Qy2TxP",
    "outputId": "3c2d42ca-cebd-486f-827c-45e30290cb4f"
   },
   "outputs": [
    {
     "data": {
      "image/png": "[encoded data removed]",
      "text/plain": [
       "<Figure size 432x288 with 1 Axes>"
      ]
     },
     "metadata": {
      "needs_background": "light"
     },
     "output_type": "display_data"
    }
   ],
   "source": [
    "# here's a barplot for non-numeric (\"categorical\") IV levels\n",
    "\n",
    "# set up the values that get plotted\n",
    "bar_labels = [\"long\", \"short\"]     # you'll want to edit these labels\n",
    "bar_heights = [a_mean, b_mean]     # these will be the heights of the bars, in order\n",
    "errorbars = [2*a_stunc, 2*b_stunc]  # this is totally wrong; edit this to be twice the std unc for a and b\n",
    "\n",
    "# this part makes the plot\n",
    "fig, ax = plt.subplots()\n",
    "ax.bar(bar_labels, bar_heights, yerr=errorbars, align='center', alpha=0.5, color='green', ecolor='black', capsize=10)\n",
    "\n",
    "# edit these so your plot looks nice\n",
    "ax.set_xlabel('Type')\n",
    "ax.set_ylabel('IV levels')\n",
    "ax.set_title('IV levels vs Type')\n",
    "ax.grid(False)\n",
    "plt.show()"
   ]
  },
  {
   "cell_type": "markdown",
   "metadata": {
    "id": "P2-U3YPMPyWN"
   },
   "source": [
    "## A new old approach to lab investigations: uncertainty analysis\n",
    "Question: Is the magnetic field around your desk or computer uniform?\n",
    "Investigate by making repeated measurements of the magnitude of the magnetic field at two locations near you. If you can get measurements from your left and right sides of your computer at distance (for both) of inch or 2cm increments away from the computer in a straight line (as in along a ruler). You'll need to create a variable name for each set of data and assign those data as appropriate. These will comprise the data sets to analyze.Most of the code needed is above and can be copied and pasted.<br><br> \n",
    "####For the analysis:<br>\n",
    "###Easier\n",
    ">*Report the field at each location by its mean +/- uncertainty. \n",
    ">>*Define uncertainty as half the range of the measurements at a ocation.<br>\n",
    ">*Do the ranges for the two means overlap?<br>\n",
    "###Intermediate (from Natasha Holmes’ labs)\n",
    "Report the field at each location by its mean +/- standard uncertainty, $\\bar{x}\\pm\\delta x$.\n",
    ">*Define standard uncertainty in sample A as $\\delta A=\\frac{\\sigma }{\\sqrt{n}}$ , (the standard deviation of the trials) / (square root of the number of trials) <br>\n",
    ">*Do the ranges for the two means overlap?<br>\n",
    "###Advanced (from Natasha Holmes’ labs). Try it by hand or in a Python notebook\n",
    "Report the field at each location by its mean +/- standard uncertainty, $\\bar{x}\\pm\\delta x$.\n",
    ">*Define standard uncertainty in sample A as $\\delta A=\\frac{\\sigma }{\\sqrt{n}}$ , (the standard deviation of the trials) / (square root of the number of trials) <br>\n",
    ">^Calculate t’ using $t'=\\frac{\\left | \\bar{A}-\\bar{B} \\right |}{\\sqrt{\\delta A^{2}+\\delta B^{2}}}$ <br>\n",
    ">*Interpret the t’ as<br>\n",
    ">t’ < 1: unlikely the two means are the same<br>\n",
    ">1 < t’ < 3: inconclusive<br>\n",
    ">3 < t’: likely the two means are different\n"
   ]
  },
  {
   "cell_type": "code",
   "execution_count": 34,
   "metadata": {
    "colab": {
     "base_uri": "https://localhost:8080/",
     "height": 132
    },
    "id": "mA5j59D-QN7W",
    "outputId": "d996f8ca-4ac6-4d53-e158-cbe60282f57e"
   },
   "outputs": [],
   "source": [
    "import pandas as pd\n",
    "df = pd.read_excel(\"Magnetometer 2023-03-13 17-40-55.xls\")\n",
    "x, y = list(df[\"Time (s)\"]), list(df[\"Absolute field (µT)\"])"
   ]
  },
  {
   "cell_type": "code",
   "execution_count": 45,
   "metadata": {},
   "outputs": [
    {
     "data": {
      "text/plain": [
       "Text(0.5, 1.0, 'Absolute Field vs. Time')"
      ]
     },
     "execution_count": 45,
     "metadata": {},
     "output_type": "execute_result"
    },
    {
     "data": {
      "image/png": "[encoded data removed]",
      "text/plain": [
       "<Figure size 432x288 with 1 Axes>"
      ]
     },
     "metadata": {
      "needs_background": "light"
     },
     "output_type": "display_data"
    }
   ],
   "source": [
    "plt.plot(x, y)\n",
    "plt.xlabel(\"Time (s)\")\n",
    "plt.ylabel(\"Absolute Field (µT)\")\n",
    "plt.title(\"Absolute Field vs. Time\")"
   ]
  },
  {
   "cell_type": "code",
   "execution_count": 63,
   "metadata": {},
   "outputs": [],
   "source": [
    "halfway = len(y)//2\n",
    "first_half = y[:halfway]\n",
    "second_half = y[halfway:]"
   ]
  },
  {
   "cell_type": "code",
   "execution_count": 64,
   "metadata": {},
   "outputs": [
    {
     "name": "stdout",
     "output_type": "stream",
     "text": [
      "74.8136290620869\n",
      "109.84506505529113\n"
     ]
    }
   ],
   "source": [
    "# calculate means \n",
    "first_mean = np.mean(first_half)\n",
    "second_mean = np.mean(second_half)\n",
    "print(first_mean)\n",
    "print(second_mean)"
   ]
  },
  {
   "cell_type": "code",
   "execution_count": 65,
   "metadata": {},
   "outputs": [
    {
     "name": "stdout",
     "output_type": "stream",
     "text": [
      "38.52273672913325\n",
      "69.76695785475282\n"
     ]
    }
   ],
   "source": [
    "# calculate stdevs\n",
    "first_stdev = np.std(first_half, ddof=1)\n",
    "second_stdev = np.std(second_half, ddof=1)\n",
    "print(first_stdev)\n",
    "print(second_stdev)"
   ]
  },
  {
   "cell_type": "code",
   "execution_count": 66,
   "metadata": {},
   "outputs": [
    {
     "name": "stdout",
     "output_type": "stream",
     "text": [
      "3.1246065490231096\n",
      "5.640324243395325\n"
     ]
    }
   ],
   "source": [
    "# calculate standard uncertainty\n",
    "first_stunc = first_stdev / np.sqrt(len(first_half))\n",
    "second_stunc = second_stdev / np.sqrt(len(second_half))\n",
    "print(first_stunc)\n",
    "print(second_stunc)"
   ]
  },
  {
   "cell_type": "code",
   "execution_count": 70,
   "metadata": {},
   "outputs": [
    {
     "name": "stdout",
     "output_type": "stream",
     "text": [
      "71.68902251306379, 77.93823561111002\n",
      "104.2047408118958, 115.48538929868646\n"
     ]
    }
   ],
   "source": [
    "# calculate ranges\n",
    "first_range_low, first_range_high = first_mean - first_stunc, first_mean + first_stunc\n",
    "second_range_low, second_range_high = second_mean - second_stunc, second_mean + second_stunc\n",
    "print(f\"{first_range_low}, {first_range_high}\")\n",
    "print(f\"{second_range_low}, {second_range_high}\")"
   ]
  },
  {
   "cell_type": "code",
   "execution_count": 67,
   "metadata": {},
   "outputs": [
    {
     "data": {
      "text/plain": [
       "5.432933327960226"
      ]
     },
     "execution_count": 67,
     "metadata": {},
     "output_type": "execute_result"
    }
   ],
   "source": [
    "# calculate t'\n",
    "t_prime = abs((first_mean - second_mean) / np.sqrt(first_stunc**2 + second_stunc**2))\n",
    "t_prime"
   ]
  },
  {
   "cell_type": "markdown",
   "metadata": {},
   "source": [
    "### Since the value of t' > 3, we can conclude that the there is a significant difference in the magnetic field the computer on my desk. "
   ]
  },
  {
   "cell_type": "markdown",
   "metadata": {
    "id": "ZG7-rE7j2TxQ"
   },
   "source": [
    "<hr/>  \n",
    "\n",
    "# Credits\n",
    "This notebook was written by [Adam LaMee](http://www.adamlamee.com) with contributions by UCF graduate student Ifthakar Bin Elius. Thanks to the great folks at [Binder](https://mybinder.org/) and [Google Colaboratory](https://colab.research.google.com/notebooks/intro.ipynb) for making this notebook interactive without you needing to download it or install [Jupyter](https://jupyter.org/) on your own device."
   ]
  }
 ],
 "metadata": {
  "colab": {
   "provenance": []
  },
  "kernelspec": {
   "display_name": "Python 3 (ipykernel)",
   "language": "python",
   "name": "python3"
  },
  "language_info": {
   "codemirror_mode": {
    "name": "ipython",
    "version": 3
   },
   "file_extension": ".py",
   "mimetype": "text/x-python",
   "name": "python",
   "nbconvert_exporter": "python",
   "pygments_lexer": "ipython3",
   "version": "3.10.5"
  }
 },
 "nbformat": 4,
 "nbformat_minor": 4
}
