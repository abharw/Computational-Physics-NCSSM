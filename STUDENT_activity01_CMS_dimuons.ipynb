{
  "nbformat": 4,
  "nbformat_minor": 0,
  "metadata": {
    "colab": {
      "provenance": []
    },
    "kernelspec": {
      "display_name": "Python 3",
      "language": "python",
      "name": "python3"
    }
  },
  "cells": [
    {
      "cell_type": "markdown",
      "metadata": {
        "id": "MQTLrSzVmTgH"
      },
      "source": [
        "**How to save this notebook to your personal Drive**\n",
        "\n",
        "To copy this notebook to your Google Drive, go to File and select \"Save a copy in Drive\", where it will automatically open the copy in a new tab for you to work in. This notebook will be saved into a folder on your personal Drive called \"Colab Notebooks\".\n",
        "\n",
        "\n",
        "Still stumped? Check out <a href=\"https://www.youtube.com/watch?v=qaJ2UpMPXKk\"> this video</a> for help <br><br>\n",
        "Please remember to rename this with your last name replacing \"STUDENT\"."
      ]
    },
    {
      "cell_type": "markdown",
      "metadata": {
        "id": "ChEwEkRfCRMJ"
      },
      "source": [
        "# Looking at the dimuon spectrum over a wide energy range"
      ]
    },
    {
      "cell_type": "markdown",
      "metadata": {
        "id": "5Q3czKXICRMN"
      },
      "source": [
        "<h3>Learning goals</h3>\n",
        "<ul>\n",
        "    <li>Relativistic kinematics.\n",
        "    <li>Mesons.\n",
        "</ul>"
      ]
    },
    {
      "cell_type": "markdown",
      "metadata": {
        "id": "-EQWisz_CRMQ"
      },
      "source": [
        "<b>Background</b>\n",
        "\n",
        "To determine the mass ($m$) of a particle you need to know the 4-momenta of the particles ($\\mathbf{P}$) that are detected after the collision: the energy ($E$), the momentum in the x direction ($p_x$), the momentum in the y direction ($p_y$), the momentum in the z direction ($p_z$).\n",
        "\n",
        "$$\\mathbf{P} = (E,p_x,p_y,p_z)$$\n",
        "\n",
        "\n",
        "\\begin{equation*} m = \\sqrt{E^2-(p_x^2+p_y^2 + p_z^2)} \\end{equation*}\n",
        "\n",
        "Some particles are very unstable and decay (turn into) to two or more other particles. In fact, they can decay so quickly, that they never interact with your detector! Yikes!\n",
        "\n",
        "However, we can reconstruct the parent particle (sometimes referred to as <b>the initial state particle</b>) and its 4-momentum by adding the 4-momenta of the child particles (sometimes referred to as <b>the decay products</b>). \n",
        "\n",
        "$$\\mathbf{P_{\\rm parent}} = \\mathbf{P_{\\rm child 0}} + \\mathbf{P_{\\rm child 1}} + \\mathbf{P_{\\rm child 2}} + ...$$\n",
        "\n",
        "\n",
        "\n",
        "which breaks down into...\n",
        "\n",
        "$$E_{\\rm parent} = E_{\\rm child 0} + E_{\\rm child 1} + E_{\\rm child 2} + ...$$\n",
        "\n",
        "$$p_{\\rm x parent} = p_{\\rm x child 0} + p_{\\rm x child 1} + p_{\\rm x child 2} + ...$$\n",
        "\n",
        "$$p_{\\rm y parent} = p_{\\rm y child 0} + p_{\\rm y child 1} + p_{\\rm y child 2} + ...$$\n",
        "\n",
        "$$p_{\\rm z parent} = p_{\\rm z child 0} + p_{\\rm y child 1} + p_{\\rm z child 2} + ...$$\n"
      ]
    },
    {
      "cell_type": "markdown",
      "metadata": {
        "id": "rQR8GLXUCRMS"
      },
      "source": [
        "<b>Let's code!</b>\n",
        "\n",
        "Here is some very, very basic starter code. It reads in data from the CMS experiment. \n",
        "\n",
        "If you haven't already, you will want to go through the <a href=\"https://colab.research.google.com/drive/1TFvNoq-i8isZoAwnZubRnNM0CrMGXUmP\">CMS data model</a> (also included when you cloned this directory) exercise so you know how to pull out the relevant information. \n",
        "\n",
        "The following example runs with 1000 events that are included with this repository. To better see the full phyiscs, you can download a bigger file, <code>dimuons_100k.dat</code>. To download this file, see the <a href=\"https://colab.research.google.com/drive/174AUxy9qTqQ1XndbJW_Wryz9m95QZRIk\">download_more_data</a> exercise, also included in this repository.\n",
        "\n",
        "<b>NOTE: If you are getting an error saying that there is no module \"pps_tools\", go to Runtime, and then select Restart runtime. Also make sure that your runtime type is Python 3. </b>"
      ]
    },
    {
      "cell_type": "code",
      "metadata": {
        "id": "WUK5VelECRMT",
        "colab": {
          "base_uri": "https://localhost:8080/"
        },
        "outputId": "0d3fab74-5d50-4b25-879d-0a27f8c8c6bb"
      },
      "source": [
        "###### This cell need only be run once per session ##############\n",
        "###### Make sure your runtime type is Python 3 #########\n",
        "\n",
        "# Import h5hep from Github. This is to allow us to read these\n",
        "# particular files. \n",
        "!pip install git+https://github.com/mattbellis/h5hep.git\n",
        "\n",
        "# Import custom tools package from Github. These are some simple accessor functions\n",
        "# to make it easier to work with these data files. \n",
        "!pip install git+https://github.com/mattbellis/particle_physics_simplified.git\n",
        "\n",
        "import pps_tools as pps\n",
        "import h5hep"
      ],
      "execution_count": 1,
      "outputs": [
        {
          "output_type": "stream",
          "name": "stdout",
          "text": [
            "Looking in indexes: https://pypi.org/simple, https://us-python.pkg.dev/colab-wheels/public/simple/\n",
            "Collecting git+https://github.com/mattbellis/h5hep.git\n",
            "  Cloning https://github.com/mattbellis/h5hep.git to /tmp/pip-req-build-u4dp971l\n",
            "  Running command git clone --filter=blob:none --quiet https://github.com/mattbellis/h5hep.git /tmp/pip-req-build-u4dp971l\n",
            "  Resolved https://github.com/mattbellis/h5hep.git to commit d9adc7dc7f7e3a3ec60671c731bf74a5f83e4e30\n",
            "  Preparing metadata (setup.py) ... \u001b[?25l\u001b[?25hdone\n",
            "Requirement already satisfied: numpy in /usr/local/lib/python3.9/dist-packages (from h5hep==0.9) (1.22.4)\n",
            "Requirement already satisfied: h5py in /usr/local/lib/python3.9/dist-packages (from h5hep==0.9) (3.1.0)\n",
            "Building wheels for collected packages: h5hep\n",
            "  Building wheel for h5hep (setup.py) ... \u001b[?25l\u001b[?25hdone\n",
            "  Created wheel for h5hep: filename=h5hep-0.9-py3-none-any.whl size=19784 sha256=5ea9cc59438f186fac89a7e51900033f5cba775f27f5894008ee79671942ccfd\n",
            "  Stored in directory: /tmp/pip-ephem-wheel-cache-47m3yrx2/wheels/9e/66/25/4aba758447ff6c87b95bf8114f5c609aa1dd964124bf10ba3e\n",
            "Successfully built h5hep\n",
            "Installing collected packages: h5hep\n",
            "Successfully installed h5hep-0.9\n",
            "Looking in indexes: https://pypi.org/simple, https://us-python.pkg.dev/colab-wheels/public/simple/\n",
            "Collecting git+https://github.com/mattbellis/particle_physics_simplified.git\n",
            "  Cloning https://github.com/mattbellis/particle_physics_simplified.git to /tmp/pip-req-build-po1dgb4l\n",
            "  Running command git clone --filter=blob:none --quiet https://github.com/mattbellis/particle_physics_simplified.git /tmp/pip-req-build-po1dgb4l\n",
            "  Resolved https://github.com/mattbellis/particle_physics_simplified.git to commit fd04ea78e00966134ac90f1bc34dc209676e9a29\n",
            "  Preparing metadata (setup.py) ... \u001b[?25l\u001b[?25hdone\n",
            "Requirement already satisfied: numpy in /usr/local/lib/python3.9/dist-packages (from particle-physics-simplified==0.9) (1.22.4)\n",
            "Requirement already satisfied: h5py in /usr/local/lib/python3.9/dist-packages (from particle-physics-simplified==0.9) (3.1.0)\n",
            "Requirement already satisfied: h5hep in /usr/local/lib/python3.9/dist-packages (from particle-physics-simplified==0.9) (0.9)\n",
            "Building wheels for collected packages: particle-physics-simplified\n",
            "  Building wheel for particle-physics-simplified (setup.py) ... \u001b[?25l\u001b[?25hdone\n",
            "  Created wheel for particle-physics-simplified: filename=particle_physics_simplified-0.9-py3-none-any.whl size=31316 sha256=6c6e226c0f91881631f9112256af47df107d3de71f62c63a2744b0f0d222233a\n",
            "  Stored in directory: /tmp/pip-ephem-wheel-cache-k34lpfx2/wheels/ce/5c/52/3f5d994fc7f94188a78b6556695b25d33037d0e40aa4c52f3e\n",
            "Successfully built particle-physics-simplified\n",
            "Installing collected packages: particle-physics-simplified\n",
            "Successfully installed particle-physics-simplified-0.9\n"
          ]
        }
      ]
    },
    {
      "cell_type": "code",
      "metadata": {
        "id": "lORskPqMV6bc"
      },
      "source": [
        "###### This cell need only be run once per session ############################\n",
        "\n",
        "# Fetch data file\n",
        "pps.download_from_drive('dimuons_100k.hdf5')"
      ],
      "execution_count": 2,
      "outputs": []
    },
    {
      "cell_type": "code",
      "metadata": {
        "id": "qWiWkwKOIB7o",
        "colab": {
          "base_uri": "https://localhost:8080/"
        },
        "outputId": "a265e867-bfb1-451f-b808-4983ac5e48c9"
      },
      "source": [
        "# open and read data file\n",
        "infile = 'data/dimuons_100k.hdf5'\n",
        "collisions = pps.get_collisions(infile,experiment='CMS',verbose=False)"
      ],
      "execution_count": 3,
      "outputs": [
        {
          "output_type": "stream",
          "name": "stdout",
          "text": [
            "\n",
            "Building a simplified interface to the events...\n",
            "\n",
            "Building the indices...\n",
            "Built the indices!\n",
            "Data is read in and input file is closed.\n",
            "Reading in event  0\n",
            "Reading in event  10000\n",
            "Reading in event  20000\n",
            "Reading in event  30000\n",
            "Reading in event  40000\n",
            "Reading in event  50000\n",
            "Reading in event  60000\n",
            "Reading in event  70000\n",
            "Reading in event  80000\n",
            "Reading in event  90000\n"
          ]
        }
      ]
    },
    {
      "cell_type": "markdown",
      "metadata": {
        "id": "Q5_Ws3DgCRMe"
      },
      "source": [
        "<h2><font color=\"red\">Challenge!</font></h2>\n",
        "\n",
        "Use the sample code to find the mass of the particle that the two muons came from (parent particle). \n",
        "\n",
        "To do this, you will need to loop over all pairs of muons for each collision, sum their 4-momenta (energy, px, py, and pz) and then use that to calculate the invariant mass. \n",
        "\n",
        "Do this for all possible pairs and in addition, break it down so that you calculate the invariant mass for the cases where:\n",
        "* Both muons are positively charged.\n",
        "* Both muons are negatively charged.\n",
        "* The muons have opposite charges.\n",
        "\n",
        "Be careful. Some collisions may have more than 2 muons, so write your code such that it calculates all possible pairs of muons in a given collisions. For example, if there are 3 muons in a collision, there are 3 possible pairs that you can make. \n",
        "\n",
        "<i>Hint!</i>\n",
        "\n",
        "It is very likely that a particle exists where there is a peak in the data. However, this is not always true. \n",
        "A peak in the data is most likely the mass of a particle. You can look at the approximate mass to figure out which particle \n",
        "is found in the data."
      ]
    },
    {
      "cell_type": "markdown",
      "metadata": {
        "id": "Q1GLOtOfCRMg"
      },
      "source": [
        "Your histogram should look something like the following sketch. The value of the peaks should be the mass of a particle. You should be able to find two particles in their ground state. <a href=\"http://en.wikipedia.org/wiki/J/psi_meson\">Check your answer for the first particle!</a> <a href=\"http://en.wikipedia.org/wiki/Upsilon_meson\">Check your answer for the second particle!</a> "
      ]
    },
    {
      "cell_type": "code",
      "metadata": {
        "id": "nRdNKhJBCRMh",
        "colab": {
          "base_uri": "https://localhost:8080/",
          "height": 341
        },
        "outputId": "4ce1e1ce-148f-48dd-cd32-0d04caff66a2"
      },
      "source": [
        "from IPython.display import Image\n",
        "Image(url='https://raw.githubusercontent.com/particle-physics-playground/playground/master/activities/images/dimuons_sketch.jpeg')"
      ],
      "execution_count": 4,
      "outputs": [
        {
          "output_type": "execute_result",
          "data": {
            "text/html": [
              "<img src=\"https://raw.githubusercontent.com/particle-physics-playground/playground/master/activities/images/dimuons_sketch.jpeg\"/>"
            ],
            "text/plain": [
              "<IPython.core.display.Image object>"
            ]
          },
          "metadata": {},
          "execution_count": 4
        }
      ]
    },
    {
      "cell_type": "code",
      "metadata": {
        "id": "4l3y5wWLCRMo"
      },
      "source": [
        "#your code here"
      ],
      "execution_count": 5,
      "outputs": []
    },
    {
      "cell_type": "markdown",
      "metadata": {
        "id": "TUi7PgR6CRMt"
      },
      "source": [
        "#### Comments"
      ]
    },
    {
      "cell_type": "markdown",
      "metadata": {
        "id": "4Kps3sGICRMu"
      },
      "source": [
        "Depending on which file you ran over, you may see hints of particles below 20 GeV/c$^2$. It is possible you see signs of other particles at even higher energies. Plot your masses over a wide range of values, but then zoom in (change the plotting range) on different mass ranges to see if you can identify these particles. <br>\n",
        "NOW: Discuss what a dimuon is and where it fits into the Standard Model (or does it?). Include information about when it was found and by whom, and as much information as you can, properly cited (intellectual honesty!)."
      ]
    },
    {
      "cell_type": "markdown",
      "source": [],
      "metadata": {
        "id": "TBbbh6Xd0IrD"
      }
    }
  ]
}